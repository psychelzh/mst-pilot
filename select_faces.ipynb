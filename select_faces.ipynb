{
 "cells": [
  {
   "cell_type": "code",
   "execution_count": 167,
   "metadata": {},
   "outputs": [],
   "source": [
    "import face_recognition as fr\n",
    "import numpy as np\n",
    "import os\n",
    "import tqdm\n",
    "from scipy.spatial.distance import pdist, squareform\n",
    "import shutil"
   ]
  },
  {
   "cell_type": "markdown",
   "metadata": {},
   "source": [
    "# Embeddings\n",
    "Get embeddings for all faces in the dataset."
   ]
  },
  {
   "cell_type": "code",
   "execution_count": 12,
   "metadata": {},
   "outputs": [
    {
     "name": "stderr",
     "output_type": "stream",
     "text": [
      "100%|██████████| 796/796 [03:36<00:00,  3.67it/s]\n"
     ]
    }
   ],
   "source": [
    "dir_face_origin = os.path.join(\"origin\", \"face\")\n",
    "files_face = [file for file in os.listdir(dir_face_origin) if file.endswith(\".tif\")]\n",
    "ebds_list = []\n",
    "for file_face in tqdm.tqdm(files_face):\n",
    "    ebds = fr.face_encodings(fr.load_image_file(os.path.join(dir_face_origin, file_face)))\n",
    "    ebds_list.append(ebds)\n",
    "ebds_mat = np.concatenate(ebds_list, axis=0)\n",
    "simils = 1 - squareform(pdist(ebds_mat, 'cosine'))"
   ]
  },
  {
   "cell_type": "code",
   "execution_count": 173,
   "metadata": {},
   "outputs": [
    {
     "data": {
      "text/plain": [
       "array([[-0.07574854,  0.0631862 , -0.00545767, ..., -0.0455986 ,\n",
       "         0.08221815, -0.05544692],\n",
       "       [-0.07301039,  0.12866941,  0.05676532, ..., -0.04168748,\n",
       "         0.025063  , -0.06077523],\n",
       "       [-0.09061348,  0.11383098, -0.00125085, ..., -0.02179576,\n",
       "         0.06842856,  0.03265785],\n",
       "       ...,\n",
       "       [-0.12096058,  0.07091207,  0.04049471, ..., -0.00586712,\n",
       "         0.06068014,  0.019821  ],\n",
       "       [-0.18452413,  0.0516095 ,  0.0278815 , ..., -0.06559899,\n",
       "         0.0904255 , -0.00537251],\n",
       "       [-0.10438296,  0.05099077,  0.0278545 , ..., -0.0140014 ,\n",
       "         0.07005149, -0.01001175]])"
      ]
     },
     "execution_count": 173,
     "metadata": {},
     "output_type": "execute_result"
    }
   ],
   "source": [
    "# np.save(\"ebds_mat.npy\", ebds_mat)\n",
    "ebds_mat = np.load(\"ebds_mat.npy\")"
   ]
  },
  {
   "cell_type": "markdown",
   "metadata": {},
   "source": [
    "# Select morphing faces"
   ]
  },
  {
   "cell_type": "code",
   "execution_count": 170,
   "metadata": {},
   "outputs": [],
   "source": [
    "from numpy.random import default_rng\n",
    "rng = default_rng(seed=4)\n",
    "# choose randomly\n",
    "indices_from = rng.choice(len(ebds_list), size=60, replace=False)\n",
    "simils_from = simils[indices_from, :]\n",
    "# ensure morph faces are not too similar to chosen faces\n",
    "indices_to_pool = np.sort(np.where(np.all(simils_from < 0.95, axis=0))[0])\n",
    "indices_to = np.ndarray(shape=(60,), dtype=int)\n",
    "for i in range(len(indices_from)):\n",
    "    index_to = np.argmin(simils_from[i, indices_to_pool])\n",
    "    indices_to[i] = indices_to_pool[index_to]\n",
    "    indices_to_pool = np.delete(indices_to_pool, index_to)\n",
    "\n",
    "files_morph_from = [files_face[index] for index in indices_from]\n",
    "files_morph_to = [files_face[index] for index in indices_to]\n",
    "simil_sel = simils[np.ix_(indices_from, indices_to)]\n",
    "file_order = np.argsort(np.diag(simil_sel))\n",
    "# side effect: copy files\n",
    "for i in range(len(files_morph_from)):\n",
    "    shutil.copy(os.path.join(dir_face_origin, files_morph_from[i]), os.path.join(\"working\", \"face\", f'{file_order[i]+1:03d}_from.tif'))\n",
    "    shutil.copy(os.path.join(dir_face_origin, files_morph_to[i]), os.path.join(\"working\", \"face\", f'{file_order[i]+1:03d}_to.tif'))"
   ]
  },
  {
   "cell_type": "markdown",
   "metadata": {},
   "source": [
    "# Select Novel Faces"
   ]
  },
  {
   "cell_type": "code",
   "execution_count": 171,
   "metadata": {},
   "outputs": [],
   "source": [
    "files_face_remain = [file for file in files_face if file not in files_morph_from and file not in files_morph_to]\n",
    "indices_novel = rng.choice(len(files_face_remain), size=45, replace=False)\n",
    "files_novel = [files_face_remain[index] for index in indices_novel]\n",
    "for i in range(len(files_novel)):\n",
    "    shutil.copy(os.path.join(dir_face_origin, files_novel[i]), os.path.join(\"working\", \"face\", f'{i+1:03d}_novel.tif'))"
   ]
  }
 ],
 "metadata": {
  "kernelspec": {
   "display_name": "Python 3.7.13 ('face')",
   "language": "python",
   "name": "python3"
  },
  "language_info": {
   "codemirror_mode": {
    "name": "ipython",
    "version": 3
   },
   "file_extension": ".py",
   "mimetype": "text/x-python",
   "name": "python",
   "nbconvert_exporter": "python",
   "pygments_lexer": "ipython3",
   "version": "3.7.13"
  },
  "orig_nbformat": 4,
  "vscode": {
   "interpreter": {
    "hash": "ffa7fa37399ccd29c60863ae701cea58b6aa87648438587c76bc8cc8c624caca"
   }
  }
 },
 "nbformat": 4,
 "nbformat_minor": 2
}
