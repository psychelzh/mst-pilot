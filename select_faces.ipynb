{
 "cells": [
  {
   "cell_type": "code",
   "execution_count": 2,
   "metadata": {},
   "outputs": [],
   "source": [
    "import face_recognition as fr\n",
    "import numpy as np\n",
    "from numpy.random import default_rng\n",
    "import os\n",
    "import tqdm\n",
    "from scipy.spatial.distance import pdist, squareform\n",
    "import shutil"
   ]
  },
  {
   "cell_type": "markdown",
   "metadata": {},
   "source": [
    "# Embeddings\n",
    "Get embeddings for all faces in the dataset."
   ]
  },
  {
   "cell_type": "code",
   "execution_count": 62,
   "metadata": {},
   "outputs": [],
   "source": [
    "dir_face_origin = os.path.join(\"origin\", \"face\")\n",
    "files_face = np.array([file for file in os.listdir(dir_face_origin) if file.endswith(\".tif\")])"
   ]
  },
  {
   "cell_type": "code",
   "execution_count": 12,
   "metadata": {},
   "outputs": [
    {
     "name": "stderr",
     "output_type": "stream",
     "text": [
      "100%|██████████| 796/796 [03:36<00:00,  3.67it/s]\n"
     ]
    }
   ],
   "source": [
    "ebds_list = []\n",
    "for file_face in tqdm.tqdm(files_face):\n",
    "    ebds = fr.face_encodings(fr.load_image_file(os.path.join(dir_face_origin, file_face)))\n",
    "    ebds_list.append(ebds)\n",
    "ebds_mat = np.concatenate(ebds_list, axis=0)"
   ]
  },
  {
   "cell_type": "code",
   "execution_count": 16,
   "metadata": {},
   "outputs": [],
   "source": [
    "# np.save(\"ebds_mat.npy\", ebds_mat)\n",
    "ebds_mat = np.load(\"backup/ebds_mat.npy\")\n",
    "simils = 1 - squareform(pdist(ebds_mat, 'cosine'))"
   ]
  },
  {
   "cell_type": "markdown",
   "metadata": {},
   "source": [
    "# Select Faces Based on Sex\n",
    "\n",
    "* Male: 30\n",
    "* Female: 30"
   ]
  },
  {
   "cell_type": "code",
   "execution_count": 63,
   "metadata": {},
   "outputs": [],
   "source": [
    "def select_faces(files_face: list, sex: str, simils: np.ndarray, n: int = 30, seed: int = 0, threshold: float = 0.91) -> list:\n",
    "    \"\"\"Select n faces based on sex\n",
    "    \"\"\"\n",
    "    rng = default_rng(seed)\n",
    "    while True:\n",
    "        indices_match_sex = [i for i, f in enumerate(files_face) if f[0] == sex]\n",
    "        simils_match_sex = simils[np.ix_(indices_match_sex, indices_match_sex)]\n",
    "        indices_from = np.sort(rng.choice(indices_match_sex, n))\n",
    "        # remove the selected faces from the indices pool\n",
    "        indices_to_pool = np.setdiff1d(indices_match_sex, indices_from)\n",
    "        indices_to = np.ndarray(shape=(60,), dtype=int)\n",
    "        is_okay_simil = True\n",
    "        for i in range(len(indices_from)):\n",
    "            cur_simils = simils[indices_from[i], indices_to_pool]\n",
    "            if all(cur_simils > threshold):\n",
    "                is_okay_simil = False\n",
    "                break\n",
    "            index_to = indices_to_pool[np.argmin(cur_simils)]\n",
    "            indices_to_pool = np.setdiff1d(indices_to_pool, index_to)\n",
    "            indices_to[i] = index_to\n",
    "        if is_okay_simil:\n",
    "            break\n",
    "    return indices_from, indices_to\n",
    "\n",
    "def sort_select_faces(indices_from: np.ndarray, indices_to: np.ndarray, simils: np.ndarray) -> np.ndarray:\n",
    "    \"\"\"Sort the selected faces based on the similarity\n",
    "    \"\"\"\n",
    "    simils_sel = simils[np.ix_(indices_from, indices_to)]\n",
    "    file_order = np.argsort(np.diag(simils_sel))\n",
    "    return file_order"
   ]
  },
  {
   "cell_type": "code",
   "execution_count": 67,
   "metadata": {},
   "outputs": [],
   "source": [
    "indices_from_m, indices_to_m = select_faces(files_face, \"M\", simils)\n",
    "file_order_m = sort_select_faces(indices_from_m, indices_to_m, simils)\n",
    "# side effect: copy files\n",
    "for i in range(len(indices_from_m)):\n",
    "    shutil.copy(os.path.join(dir_face_origin, files_face[indices_from_m[i]]), os.path.join(\"working\", \"face\", f'{file_order_m[i]+1:03d}_from.tif'))\n",
    "    shutil.copy(os.path.join(dir_face_origin,files_face[indices_to_m[i]]), os.path.join(\"working\", \"face\", f'{file_order_m[i]+1:03d}_to.tif'))\n",
    "indices_from_f, indices_to_f = select_faces(files_face, \"F\", simils)\n",
    "file_order_f = sort_select_faces(indices_from_f, indices_to_f, simils)\n",
    "# side effect: copy files\n",
    "for i in range(len(indices_from_f)):\n",
    "    shutil.copy(os.path.join(dir_face_origin, files_face[indices_from_f[i]]), os.path.join(\"working\", \"face\", f'{file_order_f[i]+31:03d}_from.tif'))\n",
    "    shutil.copy(os.path.join(dir_face_origin,files_face[indices_to_f[i]]), os.path.join(\"working\", \"face\", f'{file_order_f[i]+31:03d}_to.tif'))"
   ]
  },
  {
   "cell_type": "markdown",
   "metadata": {},
   "source": [
    "# Select Novel Faces"
   ]
  },
  {
   "cell_type": "code",
   "execution_count": 68,
   "metadata": {},
   "outputs": [],
   "source": [
    "rng = default_rng(0)\n",
    "files_face_remain = np.setdiff1d(files_face, np.concatenate([files_face[indices_from_m], files_face[indices_to_m], files_face[indices_from_f], files_face[indices_to_f]]))\n",
    "indices_novel = rng.choice(len(files_face_remain), size=45, replace=False)\n",
    "files_novel = [files_face_remain[index] for index in indices_novel]\n",
    "for i in range(len(files_novel)):\n",
    "    shutil.copy(os.path.join(dir_face_origin, files_novel[i]), os.path.join(\"working\", \"face\", f'{i+1:03d}_novel.tif'))"
   ]
  }
 ],
 "metadata": {
  "kernelspec": {
   "display_name": "Python 3.7.13 ('face')",
   "language": "python",
   "name": "python3"
  },
  "language_info": {
   "codemirror_mode": {
    "name": "ipython",
    "version": 3
   },
   "file_extension": ".py",
   "mimetype": "text/x-python",
   "name": "python",
   "nbconvert_exporter": "python",
   "pygments_lexer": "ipython3",
   "version": "3.7.13"
  },
  "orig_nbformat": 4,
  "vscode": {
   "interpreter": {
    "hash": "ffa7fa37399ccd29c60863ae701cea58b6aa87648438587c76bc8cc8c624caca"
   }
  }
 },
 "nbformat": 4,
 "nbformat_minor": 2
}
